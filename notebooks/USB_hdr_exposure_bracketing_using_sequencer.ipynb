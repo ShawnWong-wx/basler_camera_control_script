{
 "cells": [
  {
   "cell_type": "markdown",
   "metadata": {},
   "source": [
    "# Exposure bracketing using the sequencer feature of USB3 ace devices"
   ]
  },
  {
   "cell_type": "code",
   "execution_count": 4,
   "metadata": {},
   "outputs": [],
   "source": [
    "import pypylon.pylon as py\n",
    "import numpy as np"
   ]
  },
  {
   "cell_type": "code",
   "execution_count": 5,
   "metadata": {},
   "outputs": [],
   "source": [
    "# open the first USB device\n",
    "info = py.DeviceInfo()\n",
    "info.SetDeviceClass(\"BaslerUsb\")\n",
    "cam = py.InstantCamera(py.TlFactory.GetInstance().CreateFirstDevice(info))"
   ]
  },
  {
   "cell_type": "code",
   "execution_count": 6,
   "metadata": {},
   "outputs": [],
   "source": [
    "# this code only works for ace USB\n",
    "if not cam.GetDeviceInfo().GetModelName().startswith(\"acA\"):\n",
    "    print(\"_This_ sequencer configuration only works to basler ace USB\")"
   ]
  },
  {
   "cell_type": "code",
   "execution_count": 7,
   "metadata": {},
   "outputs": [],
   "source": [
    "# open device\n",
    "cam.Open()"
   ]
  },
  {
   "cell_type": "markdown",
   "metadata": {},
   "source": [
    "## setup camera.\n",
    "sequencer mode is not running if the auto-functions are active"
   ]
  },
  {
   "cell_type": "code",
   "execution_count": 8,
   "metadata": {},
   "outputs": [
    {
     "name": "stderr",
     "output_type": "stream",
     "text": [
      "C:\\Users\\Shawn\\AppData\\Local\\Temp\\ipykernel_7936\\2017762402.py:1: DeprecationWarning: Setting a feature value by direct assignment is deprecated. Use <nodemap>.UserSetSelector.Value = Default\n",
      "  cam.UserSetSelector = \"Default\"\n"
     ]
    }
   ],
   "source": [
    "cam.UserSetSelector = \"Default\"\n",
    "cam.UserSetLoad.Execute()"
   ]
  },
  {
   "cell_type": "code",
   "execution_count": 9,
   "metadata": {},
   "outputs": [],
   "source": [
    "# mean exposure time 20ms\n",
    "exp_0 = 2000\n",
    "exp_1 = 20000\n",
    "exp_2 = 200000"
   ]
  },
  {
   "cell_type": "markdown",
   "metadata": {},
   "source": [
    "### activate chunks [ embedded data ]\n",
    "This allows to read the exposuretime an image has been taken with from the image data"
   ]
  },
  {
   "cell_type": "code",
   "execution_count": 10,
   "metadata": {},
   "outputs": [
    {
     "name": "stderr",
     "output_type": "stream",
     "text": [
      "C:\\Users\\Shawn\\AppData\\Local\\Temp\\ipykernel_7936\\3045622392.py:2: DeprecationWarning: Setting a feature value by direct assignment is deprecated. Use <nodemap>.ChunkModeActive.Value = True\n",
      "  cam.ChunkModeActive = True\n",
      "C:\\Users\\Shawn\\AppData\\Local\\Temp\\ipykernel_7936\\3045622392.py:4: DeprecationWarning: Setting a feature value by direct assignment is deprecated. Use <nodemap>.ChunkSelector.Value = ExposureTime\n",
      "  cam.ChunkSelector = \"ExposureTime\"\n",
      "C:\\Users\\Shawn\\AppData\\Local\\Temp\\ipykernel_7936\\3045622392.py:5: DeprecationWarning: Setting a feature value by direct assignment is deprecated. Use <nodemap>.ChunkEnable.Value = True\n",
      "  cam.ChunkEnable = True\n"
     ]
    }
   ],
   "source": [
    "# enable camera chunk mode\n",
    "cam.ChunkModeActive = True\n",
    "# enable exposuretime chunk\n",
    "cam.ChunkSelector = \"ExposureTime\"\n",
    "cam.ChunkEnable = True"
   ]
  },
  {
   "cell_type": "markdown",
   "metadata": {},
   "source": [
    "### sequencer setup"
   ]
  },
  {
   "cell_type": "code",
   "execution_count": 11,
   "metadata": {},
   "outputs": [
    {
     "name": "stderr",
     "output_type": "stream",
     "text": [
      "C:\\Users\\Shawn\\AppData\\Local\\Temp\\ipykernel_7936\\2540021868.py:1: DeprecationWarning: Setting a feature value by direct assignment is deprecated. Use <nodemap>.SequencerMode.Value = Off\n",
      "  cam.SequencerMode = \"Off\"\n",
      "C:\\Users\\Shawn\\AppData\\Local\\Temp\\ipykernel_7936\\2540021868.py:2: DeprecationWarning: Setting a feature value by direct assignment is deprecated. Use <nodemap>.SequencerConfigurationMode.Value = On\n",
      "  cam.SequencerConfigurationMode = \"On\"\n"
     ]
    }
   ],
   "source": [
    "cam.SequencerMode = \"Off\"\n",
    "cam.SequencerConfigurationMode = \"On\""
   ]
  },
  {
   "cell_type": "markdown",
   "metadata": {},
   "source": [
    "### setup set 0"
   ]
  },
  {
   "cell_type": "code",
   "execution_count": 12,
   "metadata": {},
   "outputs": [
    {
     "name": "stderr",
     "output_type": "stream",
     "text": [
      "C:\\Users\\Shawn\\AppData\\Local\\Temp\\ipykernel_7936\\1515968180.py:1: DeprecationWarning: Setting a feature value by direct assignment is deprecated. Use <nodemap>.SequencerSetSelector.Value = 0\n",
      "  cam.SequencerSetSelector = 0\n",
      "C:\\Users\\Shawn\\AppData\\Local\\Temp\\ipykernel_7936\\1515968180.py:3: DeprecationWarning: Setting a feature value by direct assignment is deprecated. Use <nodemap>.ExposureTime.Value = 2000\n",
      "  cam.ExposureTime = exp_0\n"
     ]
    }
   ],
   "source": [
    "cam.SequencerSetSelector = 0\n",
    "\n",
    "cam.ExposureTime = exp_0\n",
    "\n",
    "cam.SequencerSetSave.Execute()"
   ]
  },
  {
   "cell_type": "code",
   "execution_count": 10,
   "metadata": {},
   "outputs": [],
   "source": [
    "### setup set 1"
   ]
  },
  {
   "cell_type": "code",
   "execution_count": 13,
   "metadata": {},
   "outputs": [
    {
     "name": "stderr",
     "output_type": "stream",
     "text": [
      "C:\\Users\\Shawn\\AppData\\Local\\Temp\\ipykernel_7936\\1496113563.py:1: DeprecationWarning: Setting a feature value by direct assignment is deprecated. Use <nodemap>.SequencerSetSelector.Value = 1\n",
      "  cam.SequencerSetSelector = 1\n",
      "C:\\Users\\Shawn\\AppData\\Local\\Temp\\ipykernel_7936\\1496113563.py:3: DeprecationWarning: Setting a feature value by direct assignment is deprecated. Use <nodemap>.ExposureTime.Value = 20000\n",
      "  cam.ExposureTime = exp_1\n"
     ]
    }
   ],
   "source": [
    "cam.SequencerSetSelector = 1\n",
    "\n",
    "cam.ExposureTime = exp_1\n",
    "\n",
    "cam.SequencerSetSave.Execute()"
   ]
  },
  {
   "cell_type": "code",
   "execution_count": 14,
   "metadata": {},
   "outputs": [],
   "source": [
    "### setup set 2"
   ]
  },
  {
   "cell_type": "code",
   "execution_count": 15,
   "metadata": {},
   "outputs": [
    {
     "name": "stderr",
     "output_type": "stream",
     "text": [
      "C:\\Users\\Shawn\\AppData\\Local\\Temp\\ipykernel_7936\\332444998.py:1: DeprecationWarning: Setting a feature value by direct assignment is deprecated. Use <nodemap>.SequencerSetSelector.Value = 2\n",
      "  cam.SequencerSetSelector = 2\n",
      "C:\\Users\\Shawn\\AppData\\Local\\Temp\\ipykernel_7936\\332444998.py:3: DeprecationWarning: Setting a feature value by direct assignment is deprecated. Use <nodemap>.ExposureTime.Value = 200000\n",
      "  cam.ExposureTime = exp_2\n",
      "C:\\Users\\Shawn\\AppData\\Local\\Temp\\ipykernel_7936\\332444998.py:7: DeprecationWarning: Setting a feature value by direct assignment is deprecated. Use <nodemap>.SequencerPathSelector.Value = 1\n",
      "  cam.SequencerPathSelector = 1\n",
      "C:\\Users\\Shawn\\AppData\\Local\\Temp\\ipykernel_7936\\332444998.py:8: DeprecationWarning: Setting a feature value by direct assignment is deprecated. Use <nodemap>.SequencerSetNext.Value = 0\n",
      "  cam.SequencerSetNext = 0\n"
     ]
    }
   ],
   "source": [
    "cam.SequencerSetSelector = 2\n",
    "\n",
    "cam.ExposureTime = exp_2\n",
    "\n",
    "# select that we jump to set 0 after this set\n",
    "# path 1 is the _next_ path / path 0 would be _reset_ path\n",
    "cam.SequencerPathSelector = 1\n",
    "cam.SequencerSetNext = 0\n",
    "\n",
    "cam.SequencerSetSave.Execute()"
   ]
  },
  {
   "cell_type": "markdown",
   "metadata": {},
   "source": [
    "### enable sequencer"
   ]
  },
  {
   "cell_type": "code",
   "execution_count": 16,
   "metadata": {},
   "outputs": [
    {
     "name": "stderr",
     "output_type": "stream",
     "text": [
      "C:\\Users\\Shawn\\AppData\\Local\\Temp\\ipykernel_7936\\183140513.py:1: DeprecationWarning: Setting a feature value by direct assignment is deprecated. Use <nodemap>.SequencerConfigurationMode.Value = Off\n",
      "  cam.SequencerConfigurationMode = \"Off\"\n",
      "C:\\Users\\Shawn\\AppData\\Local\\Temp\\ipykernel_7936\\183140513.py:4: DeprecationWarning: Setting a feature value by direct assignment is deprecated. Use <nodemap>.SequencerMode.Value = On\n",
      "  cam.SequencerMode = \"On\"\n"
     ]
    }
   ],
   "source": [
    "cam.SequencerConfigurationMode = \"Off\"\n",
    "\n",
    "# this will set the first sequencer set to set _0_ as side effect\n",
    "cam.SequencerMode = \"On\""
   ]
  },
  {
   "cell_type": "markdown",
   "metadata": {},
   "source": [
    "### test capture with enabled sequencer mode"
   ]
  },
  {
   "cell_type": "code",
   "execution_count": 18,
   "metadata": {},
   "outputs": [
    {
     "name": "stdout",
     "output_type": "stream",
     "text": [
      "0\t  2000\t  0.18\n",
      "1\t 20000\t  4.84\n",
      "2\t200000\t 48.60\n",
      "3\t  2000\t  0.18\n",
      "4\t 20000\t  4.85\n",
      "5\t200000\t 48.60\n",
      "6\t  2000\t  0.18\n",
      "7\t 20000\t  4.85\n",
      "8\t200000\t 48.60\n",
      "9\t  2000\t  0.18\n",
      "10\t 20000\t  4.85\n",
      "11\t200000\t 48.60\n",
      "12\t  2000\t  0.18\n",
      "13\t 20000\t  4.85\n",
      "14\t200000\t 48.60\n",
      "15\t  2000\t  0.18\n",
      "16\t 20000\t  4.85\n",
      "17\t200000\t 48.60\n",
      "18\t  2000\t  0.18\n",
      "19\t 20000\t  4.85\n",
      "20\t200000\t 48.60\n",
      "21\t  2000\t  0.18\n",
      "22\t 20000\t  4.85\n",
      "23\t200000\t 48.60\n",
      "24\t  2000\t  0.18\n",
      "25\t 20000\t  4.85\n",
      "26\t200000\t 48.60\n",
      "27\t  2000\t  0.18\n",
      "28\t 20000\t  4.85\n",
      "29\t200000\t 48.60\n",
      "30\t  2000\t  0.18\n",
      "31\t 20000\t  4.85\n",
      "32\t200000\t 48.60\n",
      "33\t  2000\t  0.18\n",
      "34\t 20000\t  4.85\n",
      "35\t200000\t 48.60\n",
      "36\t  2000\t  0.18\n",
      "37\t 20000\t  4.85\n",
      "38\t200000\t 48.60\n",
      "39\t  2000\t  0.18\n",
      "40\t 20000\t  4.85\n",
      "41\t200000\t 48.60\n",
      "42\t  2000\t  0.18\n",
      "43\t 20000\t  4.85\n",
      "44\t200000\t 48.61\n",
      "45\t  2000\t  0.18\n",
      "46\t 20000\t  4.85\n",
      "47\t200000\t 48.61\n",
      "48\t  2000\t  0.18\n",
      "49\t 20000\t  4.85\n",
      "50\t200000\t 48.61\n",
      "51\t  2000\t  0.18\n",
      "52\t 20000\t  4.85\n",
      "53\t200000\t 48.60\n",
      "54\t  2000\t  0.18\n",
      "55\t 20000\t  4.85\n",
      "56\t200000\t 48.61\n",
      "57\t  2000\t  0.18\n",
      "58\t 20000\t  4.85\n",
      "59\t200000\t 48.61\n"
     ]
    }
   ],
   "source": [
    "# grab 4 sets of 3 images\n",
    "cam.StartGrabbingMax(20 * 3)\n",
    "\n",
    "while cam.IsGrabbing():\n",
    "    res = cam.RetrieveResult(1000)\n",
    "    exp_time_chunk = res.ChunkDataNodeMap.ChunkExposureTime.Value\n",
    "    print(\"%d\\t%6.0f\\t%6.2f\" % (res.BlockID, exp_time_chunk, np.mean(res.Array)))\n",
    "    # ... do something with the images\n",
    "\n",
    "    # return to buffer queue\n",
    "    res.Release()\n",
    "\n",
    "cam.StopGrabbing()"
   ]
  },
  {
   "cell_type": "markdown",
   "metadata": {},
   "source": [
    "### Shutdown session after acquisition\n",
    "\n",
    "This is required to rerun the notebook"
   ]
  }
 ],
 "metadata": {
  "kernelspec": {
   "display_name": "Python 3",
   "language": "python",
   "name": "python3"
  },
  "language_info": {
   "codemirror_mode": {
    "name": "ipython",
    "version": 3
   },
   "file_extension": ".py",
   "mimetype": "text/x-python",
   "name": "python",
   "nbconvert_exporter": "python",
   "pygments_lexer": "ipython3",
   "version": "3.10.14"
  }
 },
 "nbformat": 4,
 "nbformat_minor": 4
}
