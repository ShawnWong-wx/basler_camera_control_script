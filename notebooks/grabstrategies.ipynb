{
 "cells": [
  {
   "cell_type": "code",
   "execution_count": 3,
   "metadata": {
    "tags": []
   },
   "outputs": [],
   "source": [
    "import pypylon.pylon as py\n",
    "import numpy as np\n",
    "import matplotlib.pyplot as plt\n",
    "\n",
    "# handle exception trace for debugging\n",
    "# background loop\n",
    "import traceback\n",
    "\n",
    "import time\n",
    "import random"
   ]
  },
  {
   "cell_type": "code",
   "execution_count": 4,
   "metadata": {
    "jupyter": {
     "outputs_hidden": false
    }
   },
   "outputs": [
    {
     "name": "stderr",
     "output_type": "stream",
     "text": [
      "C:\\Users\\Shawn\\AppData\\Local\\Temp\\ipykernel_7144\\2666066270.py:5: DeprecationWarning: Setting a feature value by direct assignment is deprecated. Use <nodemap>.UserSetSelector.Value = Default\n",
      "  cam.UserSetSelector = \"Default\"\n",
      "C:\\Users\\Shawn\\AppData\\Local\\Temp\\ipykernel_7144\\2666066270.py:8: DeprecationWarning: Setting a feature value by direct assignment is deprecated. Use <nodemap>.ExposureTime.Value = 8.0\n",
      "  cam.ExposureTime = cam.ExposureTime.Min\n"
     ]
    }
   ],
   "source": [
    "cam = py.InstantCamera(py.TlFactory.GetInstance().CreateFirstDevice())\n",
    "cam.Open()\n",
    "\n",
    "# to get consistant results it is always good to start from \"power-on\" state\n",
    "cam.UserSetSelector = \"Default\"\n",
    "cam.UserSetLoad.Execute()\n",
    "\n",
    "cam.ExposureTime = cam.ExposureTime.Min"
   ]
  },
  {
   "cell_type": "code",
   "execution_count": 5,
   "metadata": {},
   "outputs": [
    {
     "data": {
      "text/plain": [
       "56.45889792231256"
      ]
     },
     "execution_count": 5,
     "metadata": {},
     "output_type": "execute_result"
    }
   ],
   "source": [
    "# show expected framerate max framerate ( @ minimum exposure time) in [µs]\n",
    "cam.ResultingFrameRate.Value"
   ]
  },
  {
   "cell_type": "code",
   "execution_count": 4,
   "metadata": {},
   "outputs": [
    {
     "data": {
      "text/plain": [
       "6402.000000000001"
      ]
     },
     "execution_count": 4,
     "metadata": {},
     "output_type": "execute_result"
    }
   ],
   "source": [
    "# this results in frame period in µs in [fps]\n",
    "1 / cam.ResultingFrameRate.Value * 1e6"
   ]
  },
  {
   "cell_type": "markdown",
   "metadata": {},
   "source": [
    "we now compare different pylon grab strategies and their resulting frameperiod to this minimum frameperiod"
   ]
  },
  {
   "cell_type": "markdown",
   "metadata": {},
   "source": [
    "# Grab scenarios"
   ]
  },
  {
   "cell_type": "markdown",
   "metadata": {},
   "source": [
    "## GrabOne Loop\n",
    "\n",
    "most simple style to grab"
   ]
  },
  {
   "cell_type": "code",
   "execution_count": 6,
   "metadata": {
    "jupyter": {
     "outputs_hidden": false
    }
   },
   "outputs": [],
   "source": [
    "def GrabOneSample():\n",
    "    # fetch some images with foreground loop\n",
    "    img_sum = np.zeros((cam.Height.Value, cam.Width.Value), dtype=np.float32)\n",
    "\n",
    "    for i in range(100):\n",
    "        with cam.GrabOne(1000) as res:\n",
    "            img = res.Array\n",
    "            img_sum += img\n",
    "    return img_sum"
   ]
  },
  {
   "cell_type": "code",
   "execution_count": 7,
   "metadata": {
    "jupyter": {
     "outputs_hidden": false
    }
   },
   "outputs": [
    {
     "name": "stdout",
     "output_type": "stream",
     "text": [
      "6.23 s ± 8.49 ms per loop (mean ± std. dev. of 7 runs, 1 loop each)\n"
     ]
    },
    {
     "data": {
      "text/plain": [
       "<TimeitResult : 6.23 s ± 8.49 ms per loop (mean ± std. dev. of 7 runs, 1 loop each)>"
      ]
     },
     "execution_count": 7,
     "metadata": {},
     "output_type": "execute_result"
    }
   ],
   "source": [
    "%%timeit -o\n",
    "GrabOneSample()"
   ]
  },
  {
   "cell_type": "code",
   "execution_count": 8,
   "metadata": {},
   "outputs": [],
   "source": [
    "grab_one_average = _.average / 100"
   ]
  },
  {
   "cell_type": "code",
   "execution_count": 9,
   "metadata": {},
   "outputs": [
    {
     "data": {
      "text/plain": [
       "'time to capture one frame is: 62289.35 µs'"
      ]
     },
     "execution_count": 9,
     "metadata": {},
     "output_type": "execute_result"
    }
   ],
   "source": [
    "f\"time to capture one frame is: {grab_one_average*1e6:.2f} µs\""
   ]
  },
  {
   "cell_type": "markdown",
   "metadata": {},
   "source": [
    "this is very easy to use, but will have the overhead of starting and stopping the grab engine for every frame"
   ]
  },
  {
   "cell_type": "markdown",
   "metadata": {},
   "source": [
    "## Foreground Loop\n",
    "\n",
    "move the start and stop of the grab engine out of the inner grab loop"
   ]
  },
  {
   "cell_type": "code",
   "execution_count": 10,
   "metadata": {
    "jupyter": {
     "outputs_hidden": false
    }
   },
   "outputs": [],
   "source": [
    "def ForegroundLoopSample():\n",
    "    # fetch some images with foreground loop\n",
    "    img_sum = np.zeros((cam.Height.Value, cam.Width.Value), dtype=np.uint16)\n",
    "    cam.StartGrabbingMax(100)\n",
    "    while cam.IsGrabbing():\n",
    "        with cam.RetrieveResult(1000) as res:\n",
    "            if res.GrabSucceeded():\n",
    "                img = res.Array\n",
    "                img_sum += img\n",
    "            else:\n",
    "                raise RuntimeError(\"Grab failed\")\n",
    "    cam.StopGrabbing()\n",
    "    return img_sum"
   ]
  },
  {
   "cell_type": "code",
   "execution_count": 11,
   "metadata": {
    "jupyter": {
     "outputs_hidden": false
    }
   },
   "outputs": [
    {
     "name": "stdout",
     "output_type": "stream",
     "text": [
      "1.82 s ± 852 µs per loop (mean ± std. dev. of 7 runs, 1 loop each)\n"
     ]
    },
    {
     "data": {
      "text/plain": [
       "<TimeitResult : 1.82 s ± 852 µs per loop (mean ± std. dev. of 7 runs, 1 loop each)>"
      ]
     },
     "execution_count": 11,
     "metadata": {},
     "output_type": "execute_result"
    }
   ],
   "source": [
    "%%timeit -o \n",
    "ForegroundLoopSample()"
   ]
  },
  {
   "cell_type": "code",
   "execution_count": 12,
   "metadata": {},
   "outputs": [],
   "source": [
    "foreground_average = _.average / 100"
   ]
  },
  {
   "cell_type": "code",
   "execution_count": 13,
   "metadata": {},
   "outputs": [
    {
     "data": {
      "text/plain": [
       "'average time to capture one frame is: 18233.29 µs'"
      ]
     },
     "execution_count": 13,
     "metadata": {},
     "output_type": "execute_result"
    }
   ],
   "source": [
    "f\"average time to capture one frame is: {foreground_average*1e6:.2f} µs\""
   ]
  },
  {
   "cell_type": "markdown",
   "metadata": {},
   "source": [
    "## Background loop\n",
    "\n",
    "* use this mode to communicate with the camera while the images are collected in the backgound.\n",
    "* Allows async communication"
   ]
  },
  {
   "cell_type": "markdown",
   "metadata": {},
   "source": [
    "Pylon uses classes with callback handler to let usercode communicate with the grab loop"
   ]
  },
  {
   "cell_type": "code",
   "execution_count": 14,
   "metadata": {
    "jupyter": {
     "outputs_hidden": false
    }
   },
   "outputs": [],
   "source": [
    "class ImageHandler(py.ImageEventHandler):\n",
    "    def __init__(self):\n",
    "        super().__init__()\n",
    "        self.img_sum = np.zeros((cam.Height.Value, cam.Width.Value), dtype=np.uint16)\n",
    "\n",
    "    def OnImageGrabbed(self, camera, grabResult):\n",
    "        \"\"\"we get called on every image\n",
    "        !! this code is run in a pylon thread context\n",
    "        always wrap your code in the try .. except to capture\n",
    "        errors inside the grabbing as this can't be properly reported from\n",
    "        the background thread to the foreground python code\n",
    "        \"\"\"\n",
    "        try:\n",
    "            if grabResult.GrabSucceeded():\n",
    "                # check image contents\n",
    "                img = grabResult.Array\n",
    "                self.img_sum += img\n",
    "            else:\n",
    "                raise RuntimeError(\"Grab Failed\")\n",
    "        except Exception as e:\n",
    "            traceback.print_exc()"
   ]
  },
  {
   "cell_type": "code",
   "execution_count": 15,
   "metadata": {
    "jupyter": {
     "outputs_hidden": false
    }
   },
   "outputs": [],
   "source": [
    "def BackGroundLoopSample():\n",
    "\n",
    "    # instantiate callback handler\n",
    "    handler = ImageHandler()\n",
    "    # register with the pylon loop\n",
    "    cam.RegisterImageEventHandler(\n",
    "        handler, py.RegistrationMode_ReplaceAll, py.Cleanup_None\n",
    "    )\n",
    "\n",
    "    # fetch some images with background loop\n",
    "    cam.StartGrabbingMax(\n",
    "        100, py.GrabStrategy_LatestImages, py.GrabLoop_ProvidedByInstantCamera\n",
    "    )\n",
    "    while cam.IsGrabbing():\n",
    "        # random exposuretime changes every 100ms\n",
    "        cam.ExposureTime = random.uniform(cam.ExposureTime.Min, 1000)\n",
    "        time.sleep(0.1)\n",
    "\n",
    "    cam.StopGrabbing()\n",
    "    cam.DeregisterImageEventHandler(handler)\n",
    "\n",
    "    return handler.img_sum"
   ]
  },
  {
   "cell_type": "code",
   "execution_count": 16,
   "metadata": {
    "jupyter": {
     "outputs_hidden": false
    },
    "scrolled": true
   },
   "outputs": [
    {
     "name": "stderr",
     "output_type": "stream",
     "text": [
      "C:\\Users\\Shawn\\AppData\\Local\\Temp\\ipykernel_7144\\3266499962.py:16: DeprecationWarning: Setting a feature value by direct assignment is deprecated. Use <nodemap>.ExposureTime.Value = 956.6554849206331\n",
      "  cam.ExposureTime = random.uniform(cam.ExposureTime.Min, 1000)\n",
      "C:\\Users\\Shawn\\AppData\\Local\\Temp\\ipykernel_7144\\3266499962.py:16: DeprecationWarning: Setting a feature value by direct assignment is deprecated. Use <nodemap>.ExposureTime.Value = 972.0825095287254\n",
      "  cam.ExposureTime = random.uniform(cam.ExposureTime.Min, 1000)\n",
      "C:\\Users\\Shawn\\AppData\\Local\\Temp\\ipykernel_7144\\3266499962.py:16: DeprecationWarning: Setting a feature value by direct assignment is deprecated. Use <nodemap>.ExposureTime.Value = 583.1374858401181\n",
      "  cam.ExposureTime = random.uniform(cam.ExposureTime.Min, 1000)\n",
      "C:\\Users\\Shawn\\AppData\\Local\\Temp\\ipykernel_7144\\3266499962.py:16: DeprecationWarning: Setting a feature value by direct assignment is deprecated. Use <nodemap>.ExposureTime.Value = 930.1608183494219\n",
      "  cam.ExposureTime = random.uniform(cam.ExposureTime.Min, 1000)\n",
      "C:\\Users\\Shawn\\AppData\\Local\\Temp\\ipykernel_7144\\3266499962.py:16: DeprecationWarning: Setting a feature value by direct assignment is deprecated. Use <nodemap>.ExposureTime.Value = 233.09037272353524\n",
      "  cam.ExposureTime = random.uniform(cam.ExposureTime.Min, 1000)\n",
      "C:\\Users\\Shawn\\AppData\\Local\\Temp\\ipykernel_7144\\3266499962.py:16: DeprecationWarning: Setting a feature value by direct assignment is deprecated. Use <nodemap>.ExposureTime.Value = 261.64803296762193\n",
      "  cam.ExposureTime = random.uniform(cam.ExposureTime.Min, 1000)\n",
      "C:\\Users\\Shawn\\AppData\\Local\\Temp\\ipykernel_7144\\3266499962.py:16: DeprecationWarning: Setting a feature value by direct assignment is deprecated. Use <nodemap>.ExposureTime.Value = 518.6155188251596\n",
      "  cam.ExposureTime = random.uniform(cam.ExposureTime.Min, 1000)\n",
      "C:\\Users\\Shawn\\AppData\\Local\\Temp\\ipykernel_7144\\3266499962.py:16: DeprecationWarning: Setting a feature value by direct assignment is deprecated. Use <nodemap>.ExposureTime.Value = 891.787519406583\n",
      "  cam.ExposureTime = random.uniform(cam.ExposureTime.Min, 1000)\n",
      "C:\\Users\\Shawn\\AppData\\Local\\Temp\\ipykernel_7144\\3266499962.py:16: DeprecationWarning: Setting a feature value by direct assignment is deprecated. Use <nodemap>.ExposureTime.Value = 691.6046607982644\n",
      "  cam.ExposureTime = random.uniform(cam.ExposureTime.Min, 1000)\n",
      "C:\\Users\\Shawn\\AppData\\Local\\Temp\\ipykernel_7144\\3266499962.py:16: DeprecationWarning: Setting a feature value by direct assignment is deprecated. Use <nodemap>.ExposureTime.Value = 713.0366030466048\n",
      "  cam.ExposureTime = random.uniform(cam.ExposureTime.Min, 1000)\n",
      "C:\\Users\\Shawn\\AppData\\Local\\Temp\\ipykernel_7144\\3266499962.py:16: DeprecationWarning: Setting a feature value by direct assignment is deprecated. Use <nodemap>.ExposureTime.Value = 913.8714346616248\n",
      "  cam.ExposureTime = random.uniform(cam.ExposureTime.Min, 1000)\n",
      "C:\\Users\\Shawn\\AppData\\Local\\Temp\\ipykernel_7144\\3266499962.py:16: DeprecationWarning: Setting a feature value by direct assignment is deprecated. Use <nodemap>.ExposureTime.Value = 908.9497347026128\n",
      "  cam.ExposureTime = random.uniform(cam.ExposureTime.Min, 1000)\n",
      "C:\\Users\\Shawn\\AppData\\Local\\Temp\\ipykernel_7144\\3266499962.py:16: DeprecationWarning: Setting a feature value by direct assignment is deprecated. Use <nodemap>.ExposureTime.Value = 76.44368567766892\n",
      "  cam.ExposureTime = random.uniform(cam.ExposureTime.Min, 1000)\n",
      "C:\\Users\\Shawn\\AppData\\Local\\Temp\\ipykernel_7144\\3266499962.py:16: DeprecationWarning: Setting a feature value by direct assignment is deprecated. Use <nodemap>.ExposureTime.Value = 912.7598989492553\n",
      "  cam.ExposureTime = random.uniform(cam.ExposureTime.Min, 1000)\n",
      "C:\\Users\\Shawn\\AppData\\Local\\Temp\\ipykernel_7144\\3266499962.py:16: DeprecationWarning: Setting a feature value by direct assignment is deprecated. Use <nodemap>.ExposureTime.Value = 338.80139140659537\n",
      "  cam.ExposureTime = random.uniform(cam.ExposureTime.Min, 1000)\n",
      "C:\\Users\\Shawn\\AppData\\Local\\Temp\\ipykernel_7144\\3266499962.py:16: DeprecationWarning: Setting a feature value by direct assignment is deprecated. Use <nodemap>.ExposureTime.Value = 377.8128230003405\n",
      "  cam.ExposureTime = random.uniform(cam.ExposureTime.Min, 1000)\n",
      "C:\\Users\\Shawn\\AppData\\Local\\Temp\\ipykernel_7144\\3266499962.py:16: DeprecationWarning: Setting a feature value by direct assignment is deprecated. Use <nodemap>.ExposureTime.Value = 26.898454053873056\n",
      "  cam.ExposureTime = random.uniform(cam.ExposureTime.Min, 1000)\n",
      "C:\\Users\\Shawn\\AppData\\Local\\Temp\\ipykernel_7144\\3266499962.py:16: DeprecationWarning: Setting a feature value by direct assignment is deprecated. Use <nodemap>.ExposureTime.Value = 154.32299916325493\n",
      "  cam.ExposureTime = random.uniform(cam.ExposureTime.Min, 1000)\n",
      "C:\\Users\\Shawn\\AppData\\Local\\Temp\\ipykernel_7144\\3266499962.py:16: DeprecationWarning: Setting a feature value by direct assignment is deprecated. Use <nodemap>.ExposureTime.Value = 573.7730778391086\n",
      "  cam.ExposureTime = random.uniform(cam.ExposureTime.Min, 1000)\n",
      "C:\\Users\\Shawn\\AppData\\Local\\Temp\\ipykernel_7144\\3266499962.py:16: DeprecationWarning: Setting a feature value by direct assignment is deprecated. Use <nodemap>.ExposureTime.Value = 259.5988480663856\n",
      "  cam.ExposureTime = random.uniform(cam.ExposureTime.Min, 1000)\n",
      "C:\\Users\\Shawn\\AppData\\Local\\Temp\\ipykernel_7144\\3266499962.py:16: DeprecationWarning: Setting a feature value by direct assignment is deprecated. Use <nodemap>.ExposureTime.Value = 188.74041448785658\n",
      "  cam.ExposureTime = random.uniform(cam.ExposureTime.Min, 1000)\n",
      "C:\\Users\\Shawn\\AppData\\Local\\Temp\\ipykernel_7144\\3266499962.py:16: DeprecationWarning: Setting a feature value by direct assignment is deprecated. Use <nodemap>.ExposureTime.Value = 806.6115286271894\n",
      "  cam.ExposureTime = random.uniform(cam.ExposureTime.Min, 1000)\n",
      "C:\\Users\\Shawn\\AppData\\Local\\Temp\\ipykernel_7144\\3266499962.py:16: DeprecationWarning: Setting a feature value by direct assignment is deprecated. Use <nodemap>.ExposureTime.Value = 82.10680409541514\n",
      "  cam.ExposureTime = random.uniform(cam.ExposureTime.Min, 1000)\n",
      "C:\\Users\\Shawn\\AppData\\Local\\Temp\\ipykernel_7144\\3266499962.py:16: DeprecationWarning: Setting a feature value by direct assignment is deprecated. Use <nodemap>.ExposureTime.Value = 502.40059695646187\n",
      "  cam.ExposureTime = random.uniform(cam.ExposureTime.Min, 1000)\n",
      "C:\\Users\\Shawn\\AppData\\Local\\Temp\\ipykernel_7144\\3266499962.py:16: DeprecationWarning: Setting a feature value by direct assignment is deprecated. Use <nodemap>.ExposureTime.Value = 509.8836119566082\n",
      "  cam.ExposureTime = random.uniform(cam.ExposureTime.Min, 1000)\n",
      "C:\\Users\\Shawn\\AppData\\Local\\Temp\\ipykernel_7144\\3266499962.py:16: DeprecationWarning: Setting a feature value by direct assignment is deprecated. Use <nodemap>.ExposureTime.Value = 120.84825767911373\n",
      "  cam.ExposureTime = random.uniform(cam.ExposureTime.Min, 1000)\n",
      "C:\\Users\\Shawn\\AppData\\Local\\Temp\\ipykernel_7144\\3266499962.py:16: DeprecationWarning: Setting a feature value by direct assignment is deprecated. Use <nodemap>.ExposureTime.Value = 881.1526139810178\n",
      "  cam.ExposureTime = random.uniform(cam.ExposureTime.Min, 1000)\n",
      "C:\\Users\\Shawn\\AppData\\Local\\Temp\\ipykernel_7144\\3266499962.py:16: DeprecationWarning: Setting a feature value by direct assignment is deprecated. Use <nodemap>.ExposureTime.Value = 71.48423345646441\n",
      "  cam.ExposureTime = random.uniform(cam.ExposureTime.Min, 1000)\n",
      "C:\\Users\\Shawn\\AppData\\Local\\Temp\\ipykernel_7144\\3266499962.py:16: DeprecationWarning: Setting a feature value by direct assignment is deprecated. Use <nodemap>.ExposureTime.Value = 572.8749595430728\n",
      "  cam.ExposureTime = random.uniform(cam.ExposureTime.Min, 1000)\n",
      "C:\\Users\\Shawn\\AppData\\Local\\Temp\\ipykernel_7144\\3266499962.py:16: DeprecationWarning: Setting a feature value by direct assignment is deprecated. Use <nodemap>.ExposureTime.Value = 280.45919607023313\n",
      "  cam.ExposureTime = random.uniform(cam.ExposureTime.Min, 1000)\n",
      "C:\\Users\\Shawn\\AppData\\Local\\Temp\\ipykernel_7144\\3266499962.py:16: DeprecationWarning: Setting a feature value by direct assignment is deprecated. Use <nodemap>.ExposureTime.Value = 683.7224280546125\n",
      "  cam.ExposureTime = random.uniform(cam.ExposureTime.Min, 1000)\n",
      "C:\\Users\\Shawn\\AppData\\Local\\Temp\\ipykernel_7144\\3266499962.py:16: DeprecationWarning: Setting a feature value by direct assignment is deprecated. Use <nodemap>.ExposureTime.Value = 966.9139230417652\n",
      "  cam.ExposureTime = random.uniform(cam.ExposureTime.Min, 1000)\n",
      "C:\\Users\\Shawn\\AppData\\Local\\Temp\\ipykernel_7144\\3266499962.py:16: DeprecationWarning: Setting a feature value by direct assignment is deprecated. Use <nodemap>.ExposureTime.Value = 462.878909604426\n",
      "  cam.ExposureTime = random.uniform(cam.ExposureTime.Min, 1000)\n",
      "C:\\Users\\Shawn\\AppData\\Local\\Temp\\ipykernel_7144\\3266499962.py:16: DeprecationWarning: Setting a feature value by direct assignment is deprecated. Use <nodemap>.ExposureTime.Value = 391.7544064587679\n",
      "  cam.ExposureTime = random.uniform(cam.ExposureTime.Min, 1000)\n",
      "C:\\Users\\Shawn\\AppData\\Local\\Temp\\ipykernel_7144\\3266499962.py:16: DeprecationWarning: Setting a feature value by direct assignment is deprecated. Use <nodemap>.ExposureTime.Value = 798.3877366735101\n",
      "  cam.ExposureTime = random.uniform(cam.ExposureTime.Min, 1000)\n",
      "C:\\Users\\Shawn\\AppData\\Local\\Temp\\ipykernel_7144\\3266499962.py:16: DeprecationWarning: Setting a feature value by direct assignment is deprecated. Use <nodemap>.ExposureTime.Value = 859.3048979065212\n",
      "  cam.ExposureTime = random.uniform(cam.ExposureTime.Min, 1000)\n",
      "C:\\Users\\Shawn\\AppData\\Local\\Temp\\ipykernel_7144\\3266499962.py:16: DeprecationWarning: Setting a feature value by direct assignment is deprecated. Use <nodemap>.ExposureTime.Value = 706.9010751001643\n",
      "  cam.ExposureTime = random.uniform(cam.ExposureTime.Min, 1000)\n",
      "C:\\Users\\Shawn\\AppData\\Local\\Temp\\ipykernel_7144\\3266499962.py:16: DeprecationWarning: Setting a feature value by direct assignment is deprecated. Use <nodemap>.ExposureTime.Value = 166.44282746281092\n",
      "  cam.ExposureTime = random.uniform(cam.ExposureTime.Min, 1000)\n",
      "C:\\Users\\Shawn\\AppData\\Local\\Temp\\ipykernel_7144\\3266499962.py:16: DeprecationWarning: Setting a feature value by direct assignment is deprecated. Use <nodemap>.ExposureTime.Value = 105.10004769802569\n",
      "  cam.ExposureTime = random.uniform(cam.ExposureTime.Min, 1000)\n",
      "C:\\Users\\Shawn\\AppData\\Local\\Temp\\ipykernel_7144\\3266499962.py:16: DeprecationWarning: Setting a feature value by direct assignment is deprecated. Use <nodemap>.ExposureTime.Value = 391.91646937498507\n",
      "  cam.ExposureTime = random.uniform(cam.ExposureTime.Min, 1000)\n",
      "C:\\Users\\Shawn\\AppData\\Local\\Temp\\ipykernel_7144\\3266499962.py:16: DeprecationWarning: Setting a feature value by direct assignment is deprecated. Use <nodemap>.ExposureTime.Value = 837.5955551693633\n",
      "  cam.ExposureTime = random.uniform(cam.ExposureTime.Min, 1000)\n",
      "C:\\Users\\Shawn\\AppData\\Local\\Temp\\ipykernel_7144\\3266499962.py:16: DeprecationWarning: Setting a feature value by direct assignment is deprecated. Use <nodemap>.ExposureTime.Value = 606.5288923217032\n",
      "  cam.ExposureTime = random.uniform(cam.ExposureTime.Min, 1000)\n",
      "C:\\Users\\Shawn\\AppData\\Local\\Temp\\ipykernel_7144\\3266499962.py:16: DeprecationWarning: Setting a feature value by direct assignment is deprecated. Use <nodemap>.ExposureTime.Value = 675.1980705836735\n",
      "  cam.ExposureTime = random.uniform(cam.ExposureTime.Min, 1000)\n",
      "C:\\Users\\Shawn\\AppData\\Local\\Temp\\ipykernel_7144\\3266499962.py:16: DeprecationWarning: Setting a feature value by direct assignment is deprecated. Use <nodemap>.ExposureTime.Value = 990.8461061528183\n",
      "  cam.ExposureTime = random.uniform(cam.ExposureTime.Min, 1000)\n",
      "C:\\Users\\Shawn\\AppData\\Local\\Temp\\ipykernel_7144\\3266499962.py:16: DeprecationWarning: Setting a feature value by direct assignment is deprecated. Use <nodemap>.ExposureTime.Value = 720.1985833226302\n",
      "  cam.ExposureTime = random.uniform(cam.ExposureTime.Min, 1000)\n",
      "C:\\Users\\Shawn\\AppData\\Local\\Temp\\ipykernel_7144\\3266499962.py:16: DeprecationWarning: Setting a feature value by direct assignment is deprecated. Use <nodemap>.ExposureTime.Value = 368.68045145973707\n",
      "  cam.ExposureTime = random.uniform(cam.ExposureTime.Min, 1000)\n",
      "C:\\Users\\Shawn\\AppData\\Local\\Temp\\ipykernel_7144\\3266499962.py:16: DeprecationWarning: Setting a feature value by direct assignment is deprecated. Use <nodemap>.ExposureTime.Value = 400.84692871557024\n",
      "  cam.ExposureTime = random.uniform(cam.ExposureTime.Min, 1000)\n",
      "C:\\Users\\Shawn\\AppData\\Local\\Temp\\ipykernel_7144\\3266499962.py:16: DeprecationWarning: Setting a feature value by direct assignment is deprecated. Use <nodemap>.ExposureTime.Value = 925.0113331231165\n",
      "  cam.ExposureTime = random.uniform(cam.ExposureTime.Min, 1000)\n",
      "C:\\Users\\Shawn\\AppData\\Local\\Temp\\ipykernel_7144\\3266499962.py:16: DeprecationWarning: Setting a feature value by direct assignment is deprecated. Use <nodemap>.ExposureTime.Value = 818.7989510547662\n",
      "  cam.ExposureTime = random.uniform(cam.ExposureTime.Min, 1000)\n",
      "C:\\Users\\Shawn\\AppData\\Local\\Temp\\ipykernel_7144\\3266499962.py:16: DeprecationWarning: Setting a feature value by direct assignment is deprecated. Use <nodemap>.ExposureTime.Value = 141.68562636897477\n",
      "  cam.ExposureTime = random.uniform(cam.ExposureTime.Min, 1000)\n",
      "C:\\Users\\Shawn\\AppData\\Local\\Temp\\ipykernel_7144\\3266499962.py:16: DeprecationWarning: Setting a feature value by direct assignment is deprecated. Use <nodemap>.ExposureTime.Value = 758.8836998794459\n",
      "  cam.ExposureTime = random.uniform(cam.ExposureTime.Min, 1000)\n",
      "C:\\Users\\Shawn\\AppData\\Local\\Temp\\ipykernel_7144\\3266499962.py:16: DeprecationWarning: Setting a feature value by direct assignment is deprecated. Use <nodemap>.ExposureTime.Value = 68.7269386932561\n",
      "  cam.ExposureTime = random.uniform(cam.ExposureTime.Min, 1000)\n",
      "C:\\Users\\Shawn\\AppData\\Local\\Temp\\ipykernel_7144\\3266499962.py:16: DeprecationWarning: Setting a feature value by direct assignment is deprecated. Use <nodemap>.ExposureTime.Value = 926.8480300468688\n",
      "  cam.ExposureTime = random.uniform(cam.ExposureTime.Min, 1000)\n",
      "C:\\Users\\Shawn\\AppData\\Local\\Temp\\ipykernel_7144\\3266499962.py:16: DeprecationWarning: Setting a feature value by direct assignment is deprecated. Use <nodemap>.ExposureTime.Value = 292.5127094500934\n",
      "  cam.ExposureTime = random.uniform(cam.ExposureTime.Min, 1000)\n",
      "C:\\Users\\Shawn\\AppData\\Local\\Temp\\ipykernel_7144\\3266499962.py:16: DeprecationWarning: Setting a feature value by direct assignment is deprecated. Use <nodemap>.ExposureTime.Value = 142.062662364323\n",
      "  cam.ExposureTime = random.uniform(cam.ExposureTime.Min, 1000)\n",
      "C:\\Users\\Shawn\\AppData\\Local\\Temp\\ipykernel_7144\\3266499962.py:16: DeprecationWarning: Setting a feature value by direct assignment is deprecated. Use <nodemap>.ExposureTime.Value = 858.402058566255\n",
      "  cam.ExposureTime = random.uniform(cam.ExposureTime.Min, 1000)\n",
      "C:\\Users\\Shawn\\AppData\\Local\\Temp\\ipykernel_7144\\3266499962.py:16: DeprecationWarning: Setting a feature value by direct assignment is deprecated. Use <nodemap>.ExposureTime.Value = 246.05738316351375\n",
      "  cam.ExposureTime = random.uniform(cam.ExposureTime.Min, 1000)\n",
      "C:\\Users\\Shawn\\AppData\\Local\\Temp\\ipykernel_7144\\3266499962.py:16: DeprecationWarning: Setting a feature value by direct assignment is deprecated. Use <nodemap>.ExposureTime.Value = 736.3381767211092\n",
      "  cam.ExposureTime = random.uniform(cam.ExposureTime.Min, 1000)\n",
      "C:\\Users\\Shawn\\AppData\\Local\\Temp\\ipykernel_7144\\3266499962.py:16: DeprecationWarning: Setting a feature value by direct assignment is deprecated. Use <nodemap>.ExposureTime.Value = 414.321469568271\n",
      "  cam.ExposureTime = random.uniform(cam.ExposureTime.Min, 1000)\n",
      "C:\\Users\\Shawn\\AppData\\Local\\Temp\\ipykernel_7144\\3266499962.py:16: DeprecationWarning: Setting a feature value by direct assignment is deprecated. Use <nodemap>.ExposureTime.Value = 43.76457138180547\n",
      "  cam.ExposureTime = random.uniform(cam.ExposureTime.Min, 1000)\n",
      "C:\\Users\\Shawn\\AppData\\Local\\Temp\\ipykernel_7144\\3266499962.py:16: DeprecationWarning: Setting a feature value by direct assignment is deprecated. Use <nodemap>.ExposureTime.Value = 610.377281717416\n",
      "  cam.ExposureTime = random.uniform(cam.ExposureTime.Min, 1000)\n",
      "C:\\Users\\Shawn\\AppData\\Local\\Temp\\ipykernel_7144\\3266499962.py:16: DeprecationWarning: Setting a feature value by direct assignment is deprecated. Use <nodemap>.ExposureTime.Value = 669.3773938962185\n",
      "  cam.ExposureTime = random.uniform(cam.ExposureTime.Min, 1000)\n",
      "C:\\Users\\Shawn\\AppData\\Local\\Temp\\ipykernel_7144\\3266499962.py:16: DeprecationWarning: Setting a feature value by direct assignment is deprecated. Use <nodemap>.ExposureTime.Value = 468.71485186228944\n",
      "  cam.ExposureTime = random.uniform(cam.ExposureTime.Min, 1000)\n",
      "C:\\Users\\Shawn\\AppData\\Local\\Temp\\ipykernel_7144\\3266499962.py:16: DeprecationWarning: Setting a feature value by direct assignment is deprecated. Use <nodemap>.ExposureTime.Value = 740.8481439323086\n",
      "  cam.ExposureTime = random.uniform(cam.ExposureTime.Min, 1000)\n",
      "C:\\Users\\Shawn\\AppData\\Local\\Temp\\ipykernel_7144\\3266499962.py:16: DeprecationWarning: Setting a feature value by direct assignment is deprecated. Use <nodemap>.ExposureTime.Value = 97.61834011069733\n",
      "  cam.ExposureTime = random.uniform(cam.ExposureTime.Min, 1000)\n",
      "C:\\Users\\Shawn\\AppData\\Local\\Temp\\ipykernel_7144\\3266499962.py:16: DeprecationWarning: Setting a feature value by direct assignment is deprecated. Use <nodemap>.ExposureTime.Value = 37.2112597047626\n",
      "  cam.ExposureTime = random.uniform(cam.ExposureTime.Min, 1000)\n",
      "C:\\Users\\Shawn\\AppData\\Local\\Temp\\ipykernel_7144\\3266499962.py:16: DeprecationWarning: Setting a feature value by direct assignment is deprecated. Use <nodemap>.ExposureTime.Value = 607.8066771549061\n",
      "  cam.ExposureTime = random.uniform(cam.ExposureTime.Min, 1000)\n",
      "C:\\Users\\Shawn\\AppData\\Local\\Temp\\ipykernel_7144\\3266499962.py:16: DeprecationWarning: Setting a feature value by direct assignment is deprecated. Use <nodemap>.ExposureTime.Value = 204.7913970416676\n",
      "  cam.ExposureTime = random.uniform(cam.ExposureTime.Min, 1000)\n",
      "C:\\Users\\Shawn\\AppData\\Local\\Temp\\ipykernel_7144\\3266499962.py:16: DeprecationWarning: Setting a feature value by direct assignment is deprecated. Use <nodemap>.ExposureTime.Value = 414.6917056656712\n",
      "  cam.ExposureTime = random.uniform(cam.ExposureTime.Min, 1000)\n",
      "C:\\Users\\Shawn\\AppData\\Local\\Temp\\ipykernel_7144\\3266499962.py:16: DeprecationWarning: Setting a feature value by direct assignment is deprecated. Use <nodemap>.ExposureTime.Value = 173.68510677927273\n",
      "  cam.ExposureTime = random.uniform(cam.ExposureTime.Min, 1000)\n",
      "C:\\Users\\Shawn\\AppData\\Local\\Temp\\ipykernel_7144\\3266499962.py:16: DeprecationWarning: Setting a feature value by direct assignment is deprecated. Use <nodemap>.ExposureTime.Value = 579.9575693121325\n",
      "  cam.ExposureTime = random.uniform(cam.ExposureTime.Min, 1000)\n",
      "C:\\Users\\Shawn\\AppData\\Local\\Temp\\ipykernel_7144\\3266499962.py:16: DeprecationWarning: Setting a feature value by direct assignment is deprecated. Use <nodemap>.ExposureTime.Value = 412.4296899163535\n",
      "  cam.ExposureTime = random.uniform(cam.ExposureTime.Min, 1000)\n",
      "C:\\Users\\Shawn\\AppData\\Local\\Temp\\ipykernel_7144\\3266499962.py:16: DeprecationWarning: Setting a feature value by direct assignment is deprecated. Use <nodemap>.ExposureTime.Value = 891.5374263006424\n",
      "  cam.ExposureTime = random.uniform(cam.ExposureTime.Min, 1000)\n",
      "C:\\Users\\Shawn\\AppData\\Local\\Temp\\ipykernel_7144\\3266499962.py:16: DeprecationWarning: Setting a feature value by direct assignment is deprecated. Use <nodemap>.ExposureTime.Value = 443.2005487494331\n",
      "  cam.ExposureTime = random.uniform(cam.ExposureTime.Min, 1000)\n",
      "C:\\Users\\Shawn\\AppData\\Local\\Temp\\ipykernel_7144\\3266499962.py:16: DeprecationWarning: Setting a feature value by direct assignment is deprecated. Use <nodemap>.ExposureTime.Value = 796.3824306025831\n",
      "  cam.ExposureTime = random.uniform(cam.ExposureTime.Min, 1000)\n",
      "C:\\Users\\Shawn\\AppData\\Local\\Temp\\ipykernel_7144\\3266499962.py:16: DeprecationWarning: Setting a feature value by direct assignment is deprecated. Use <nodemap>.ExposureTime.Value = 117.02571206550087\n",
      "  cam.ExposureTime = random.uniform(cam.ExposureTime.Min, 1000)\n",
      "C:\\Users\\Shawn\\AppData\\Local\\Temp\\ipykernel_7144\\3266499962.py:16: DeprecationWarning: Setting a feature value by direct assignment is deprecated. Use <nodemap>.ExposureTime.Value = 594.7969882658341\n",
      "  cam.ExposureTime = random.uniform(cam.ExposureTime.Min, 1000)\n",
      "C:\\Users\\Shawn\\AppData\\Local\\Temp\\ipykernel_7144\\3266499962.py:16: DeprecationWarning: Setting a feature value by direct assignment is deprecated. Use <nodemap>.ExposureTime.Value = 688.5613547131838\n",
      "  cam.ExposureTime = random.uniform(cam.ExposureTime.Min, 1000)\n",
      "C:\\Users\\Shawn\\AppData\\Local\\Temp\\ipykernel_7144\\3266499962.py:16: DeprecationWarning: Setting a feature value by direct assignment is deprecated. Use <nodemap>.ExposureTime.Value = 605.7913782480006\n",
      "  cam.ExposureTime = random.uniform(cam.ExposureTime.Min, 1000)\n",
      "C:\\Users\\Shawn\\AppData\\Local\\Temp\\ipykernel_7144\\3266499962.py:16: DeprecationWarning: Setting a feature value by direct assignment is deprecated. Use <nodemap>.ExposureTime.Value = 258.73289937281186\n",
      "  cam.ExposureTime = random.uniform(cam.ExposureTime.Min, 1000)\n",
      "C:\\Users\\Shawn\\AppData\\Local\\Temp\\ipykernel_7144\\3266499962.py:16: DeprecationWarning: Setting a feature value by direct assignment is deprecated. Use <nodemap>.ExposureTime.Value = 443.0073886097126\n",
      "  cam.ExposureTime = random.uniform(cam.ExposureTime.Min, 1000)\n",
      "C:\\Users\\Shawn\\AppData\\Local\\Temp\\ipykernel_7144\\3266499962.py:16: DeprecationWarning: Setting a feature value by direct assignment is deprecated. Use <nodemap>.ExposureTime.Value = 157.51409382892928\n",
      "  cam.ExposureTime = random.uniform(cam.ExposureTime.Min, 1000)\n",
      "C:\\Users\\Shawn\\AppData\\Local\\Temp\\ipykernel_7144\\3266499962.py:16: DeprecationWarning: Setting a feature value by direct assignment is deprecated. Use <nodemap>.ExposureTime.Value = 900.0648873704887\n",
      "  cam.ExposureTime = random.uniform(cam.ExposureTime.Min, 1000)\n",
      "C:\\Users\\Shawn\\AppData\\Local\\Temp\\ipykernel_7144\\3266499962.py:16: DeprecationWarning: Setting a feature value by direct assignment is deprecated. Use <nodemap>.ExposureTime.Value = 950.8366104316259\n",
      "  cam.ExposureTime = random.uniform(cam.ExposureTime.Min, 1000)\n",
      "C:\\Users\\Shawn\\AppData\\Local\\Temp\\ipykernel_7144\\3266499962.py:16: DeprecationWarning: Setting a feature value by direct assignment is deprecated. Use <nodemap>.ExposureTime.Value = 74.68307675760606\n",
      "  cam.ExposureTime = random.uniform(cam.ExposureTime.Min, 1000)\n",
      "C:\\Users\\Shawn\\AppData\\Local\\Temp\\ipykernel_7144\\3266499962.py:16: DeprecationWarning: Setting a feature value by direct assignment is deprecated. Use <nodemap>.ExposureTime.Value = 259.7943183208866\n",
      "  cam.ExposureTime = random.uniform(cam.ExposureTime.Min, 1000)\n",
      "C:\\Users\\Shawn\\AppData\\Local\\Temp\\ipykernel_7144\\3266499962.py:16: DeprecationWarning: Setting a feature value by direct assignment is deprecated. Use <nodemap>.ExposureTime.Value = 448.00757855321774\n",
      "  cam.ExposureTime = random.uniform(cam.ExposureTime.Min, 1000)\n",
      "C:\\Users\\Shawn\\AppData\\Local\\Temp\\ipykernel_7144\\3266499962.py:16: DeprecationWarning: Setting a feature value by direct assignment is deprecated. Use <nodemap>.ExposureTime.Value = 381.83919999999057\n",
      "  cam.ExposureTime = random.uniform(cam.ExposureTime.Min, 1000)\n",
      "C:\\Users\\Shawn\\AppData\\Local\\Temp\\ipykernel_7144\\3266499962.py:16: DeprecationWarning: Setting a feature value by direct assignment is deprecated. Use <nodemap>.ExposureTime.Value = 205.92753903690695\n",
      "  cam.ExposureTime = random.uniform(cam.ExposureTime.Min, 1000)\n",
      "C:\\Users\\Shawn\\AppData\\Local\\Temp\\ipykernel_7144\\3266499962.py:16: DeprecationWarning: Setting a feature value by direct assignment is deprecated. Use <nodemap>.ExposureTime.Value = 561.0591822798582\n",
      "  cam.ExposureTime = random.uniform(cam.ExposureTime.Min, 1000)\n",
      "C:\\Users\\Shawn\\AppData\\Local\\Temp\\ipykernel_7144\\3266499962.py:16: DeprecationWarning: Setting a feature value by direct assignment is deprecated. Use <nodemap>.ExposureTime.Value = 298.84268234405766\n",
      "  cam.ExposureTime = random.uniform(cam.ExposureTime.Min, 1000)\n",
      "C:\\Users\\Shawn\\AppData\\Local\\Temp\\ipykernel_7144\\3266499962.py:16: DeprecationWarning: Setting a feature value by direct assignment is deprecated. Use <nodemap>.ExposureTime.Value = 407.67954633379117\n",
      "  cam.ExposureTime = random.uniform(cam.ExposureTime.Min, 1000)\n",
      "C:\\Users\\Shawn\\AppData\\Local\\Temp\\ipykernel_7144\\3266499962.py:16: DeprecationWarning: Setting a feature value by direct assignment is deprecated. Use <nodemap>.ExposureTime.Value = 393.3859041460202\n",
      "  cam.ExposureTime = random.uniform(cam.ExposureTime.Min, 1000)\n",
      "C:\\Users\\Shawn\\AppData\\Local\\Temp\\ipykernel_7144\\3266499962.py:16: DeprecationWarning: Setting a feature value by direct assignment is deprecated. Use <nodemap>.ExposureTime.Value = 65.41868394942895\n",
      "  cam.ExposureTime = random.uniform(cam.ExposureTime.Min, 1000)\n",
      "C:\\Users\\Shawn\\AppData\\Local\\Temp\\ipykernel_7144\\3266499962.py:16: DeprecationWarning: Setting a feature value by direct assignment is deprecated. Use <nodemap>.ExposureTime.Value = 998.7728111050131\n",
      "  cam.ExposureTime = random.uniform(cam.ExposureTime.Min, 1000)\n",
      "C:\\Users\\Shawn\\AppData\\Local\\Temp\\ipykernel_7144\\3266499962.py:16: DeprecationWarning: Setting a feature value by direct assignment is deprecated. Use <nodemap>.ExposureTime.Value = 248.8783990004452\n",
      "  cam.ExposureTime = random.uniform(cam.ExposureTime.Min, 1000)\n",
      "C:\\Users\\Shawn\\AppData\\Local\\Temp\\ipykernel_7144\\3266499962.py:16: DeprecationWarning: Setting a feature value by direct assignment is deprecated. Use <nodemap>.ExposureTime.Value = 227.4163485074084\n",
      "  cam.ExposureTime = random.uniform(cam.ExposureTime.Min, 1000)\n",
      "C:\\Users\\Shawn\\AppData\\Local\\Temp\\ipykernel_7144\\3266499962.py:16: DeprecationWarning: Setting a feature value by direct assignment is deprecated. Use <nodemap>.ExposureTime.Value = 182.03379872142585\n",
      "  cam.ExposureTime = random.uniform(cam.ExposureTime.Min, 1000)\n",
      "C:\\Users\\Shawn\\AppData\\Local\\Temp\\ipykernel_7144\\3266499962.py:16: DeprecationWarning: Setting a feature value by direct assignment is deprecated. Use <nodemap>.ExposureTime.Value = 476.41328544451756\n",
      "  cam.ExposureTime = random.uniform(cam.ExposureTime.Min, 1000)\n",
      "C:\\Users\\Shawn\\AppData\\Local\\Temp\\ipykernel_7144\\3266499962.py:16: DeprecationWarning: Setting a feature value by direct assignment is deprecated. Use <nodemap>.ExposureTime.Value = 577.3591468936269\n",
      "  cam.ExposureTime = random.uniform(cam.ExposureTime.Min, 1000)\n",
      "C:\\Users\\Shawn\\AppData\\Local\\Temp\\ipykernel_7144\\3266499962.py:16: DeprecationWarning: Setting a feature value by direct assignment is deprecated. Use <nodemap>.ExposureTime.Value = 997.8911378668743\n",
      "  cam.ExposureTime = random.uniform(cam.ExposureTime.Min, 1000)\n",
      "C:\\Users\\Shawn\\AppData\\Local\\Temp\\ipykernel_7144\\3266499962.py:16: DeprecationWarning: Setting a feature value by direct assignment is deprecated. Use <nodemap>.ExposureTime.Value = 995.7745805436134\n",
      "  cam.ExposureTime = random.uniform(cam.ExposureTime.Min, 1000)\n",
      "C:\\Users\\Shawn\\AppData\\Local\\Temp\\ipykernel_7144\\3266499962.py:16: DeprecationWarning: Setting a feature value by direct assignment is deprecated. Use <nodemap>.ExposureTime.Value = 850.4395300293245\n",
      "  cam.ExposureTime = random.uniform(cam.ExposureTime.Min, 1000)\n",
      "C:\\Users\\Shawn\\AppData\\Local\\Temp\\ipykernel_7144\\3266499962.py:16: DeprecationWarning: Setting a feature value by direct assignment is deprecated. Use <nodemap>.ExposureTime.Value = 588.2753849607627\n",
      "  cam.ExposureTime = random.uniform(cam.ExposureTime.Min, 1000)\n",
      "C:\\Users\\Shawn\\AppData\\Local\\Temp\\ipykernel_7144\\3266499962.py:16: DeprecationWarning: Setting a feature value by direct assignment is deprecated. Use <nodemap>.ExposureTime.Value = 641.1264378359227\n",
      "  cam.ExposureTime = random.uniform(cam.ExposureTime.Min, 1000)\n",
      "C:\\Users\\Shawn\\AppData\\Local\\Temp\\ipykernel_7144\\3266499962.py:16: DeprecationWarning: Setting a feature value by direct assignment is deprecated. Use <nodemap>.ExposureTime.Value = 729.6398238304444\n",
      "  cam.ExposureTime = random.uniform(cam.ExposureTime.Min, 1000)\n",
      "C:\\Users\\Shawn\\AppData\\Local\\Temp\\ipykernel_7144\\3266499962.py:16: DeprecationWarning: Setting a feature value by direct assignment is deprecated. Use <nodemap>.ExposureTime.Value = 431.0258264794152\n",
      "  cam.ExposureTime = random.uniform(cam.ExposureTime.Min, 1000)\n",
      "C:\\Users\\Shawn\\AppData\\Local\\Temp\\ipykernel_7144\\3266499962.py:16: DeprecationWarning: Setting a feature value by direct assignment is deprecated. Use <nodemap>.ExposureTime.Value = 878.1666748488254\n",
      "  cam.ExposureTime = random.uniform(cam.ExposureTime.Min, 1000)\n",
      "C:\\Users\\Shawn\\AppData\\Local\\Temp\\ipykernel_7144\\3266499962.py:16: DeprecationWarning: Setting a feature value by direct assignment is deprecated. Use <nodemap>.ExposureTime.Value = 386.4403716830139\n",
      "  cam.ExposureTime = random.uniform(cam.ExposureTime.Min, 1000)\n",
      "C:\\Users\\Shawn\\AppData\\Local\\Temp\\ipykernel_7144\\3266499962.py:16: DeprecationWarning: Setting a feature value by direct assignment is deprecated. Use <nodemap>.ExposureTime.Value = 85.30633372550612\n",
      "  cam.ExposureTime = random.uniform(cam.ExposureTime.Min, 1000)\n",
      "C:\\Users\\Shawn\\AppData\\Local\\Temp\\ipykernel_7144\\3266499962.py:16: DeprecationWarning: Setting a feature value by direct assignment is deprecated. Use <nodemap>.ExposureTime.Value = 818.520008028238\n",
      "  cam.ExposureTime = random.uniform(cam.ExposureTime.Min, 1000)\n",
      "C:\\Users\\Shawn\\AppData\\Local\\Temp\\ipykernel_7144\\3266499962.py:16: DeprecationWarning: Setting a feature value by direct assignment is deprecated. Use <nodemap>.ExposureTime.Value = 82.198920700786\n",
      "  cam.ExposureTime = random.uniform(cam.ExposureTime.Min, 1000)\n",
      "C:\\Users\\Shawn\\AppData\\Local\\Temp\\ipykernel_7144\\3266499962.py:16: DeprecationWarning: Setting a feature value by direct assignment is deprecated. Use <nodemap>.ExposureTime.Value = 60.7601322171663\n",
      "  cam.ExposureTime = random.uniform(cam.ExposureTime.Min, 1000)\n",
      "C:\\Users\\Shawn\\AppData\\Local\\Temp\\ipykernel_7144\\3266499962.py:16: DeprecationWarning: Setting a feature value by direct assignment is deprecated. Use <nodemap>.ExposureTime.Value = 408.4698811457681\n",
      "  cam.ExposureTime = random.uniform(cam.ExposureTime.Min, 1000)\n",
      "C:\\Users\\Shawn\\AppData\\Local\\Temp\\ipykernel_7144\\3266499962.py:16: DeprecationWarning: Setting a feature value by direct assignment is deprecated. Use <nodemap>.ExposureTime.Value = 620.2537959403501\n",
      "  cam.ExposureTime = random.uniform(cam.ExposureTime.Min, 1000)\n",
      "C:\\Users\\Shawn\\AppData\\Local\\Temp\\ipykernel_7144\\3266499962.py:16: DeprecationWarning: Setting a feature value by direct assignment is deprecated. Use <nodemap>.ExposureTime.Value = 399.65205929976463\n",
      "  cam.ExposureTime = random.uniform(cam.ExposureTime.Min, 1000)\n",
      "C:\\Users\\Shawn\\AppData\\Local\\Temp\\ipykernel_7144\\3266499962.py:16: DeprecationWarning: Setting a feature value by direct assignment is deprecated. Use <nodemap>.ExposureTime.Value = 24.072841636490153\n",
      "  cam.ExposureTime = random.uniform(cam.ExposureTime.Min, 1000)\n",
      "C:\\Users\\Shawn\\AppData\\Local\\Temp\\ipykernel_7144\\3266499962.py:16: DeprecationWarning: Setting a feature value by direct assignment is deprecated. Use <nodemap>.ExposureTime.Value = 946.570043613776\n",
      "  cam.ExposureTime = random.uniform(cam.ExposureTime.Min, 1000)\n",
      "C:\\Users\\Shawn\\AppData\\Local\\Temp\\ipykernel_7144\\3266499962.py:16: DeprecationWarning: Setting a feature value by direct assignment is deprecated. Use <nodemap>.ExposureTime.Value = 187.11357073470654\n",
      "  cam.ExposureTime = random.uniform(cam.ExposureTime.Min, 1000)\n",
      "C:\\Users\\Shawn\\AppData\\Local\\Temp\\ipykernel_7144\\3266499962.py:16: DeprecationWarning: Setting a feature value by direct assignment is deprecated. Use <nodemap>.ExposureTime.Value = 904.2279451271147\n",
      "  cam.ExposureTime = random.uniform(cam.ExposureTime.Min, 1000)\n",
      "C:\\Users\\Shawn\\AppData\\Local\\Temp\\ipykernel_7144\\3266499962.py:16: DeprecationWarning: Setting a feature value by direct assignment is deprecated. Use <nodemap>.ExposureTime.Value = 20.730795536719484\n",
      "  cam.ExposureTime = random.uniform(cam.ExposureTime.Min, 1000)\n",
      "C:\\Users\\Shawn\\AppData\\Local\\Temp\\ipykernel_7144\\3266499962.py:16: DeprecationWarning: Setting a feature value by direct assignment is deprecated. Use <nodemap>.ExposureTime.Value = 289.2917648079439\n",
      "  cam.ExposureTime = random.uniform(cam.ExposureTime.Min, 1000)\n",
      "C:\\Users\\Shawn\\AppData\\Local\\Temp\\ipykernel_7144\\3266499962.py:16: DeprecationWarning: Setting a feature value by direct assignment is deprecated. Use <nodemap>.ExposureTime.Value = 962.9325983219243\n",
      "  cam.ExposureTime = random.uniform(cam.ExposureTime.Min, 1000)\n",
      "C:\\Users\\Shawn\\AppData\\Local\\Temp\\ipykernel_7144\\3266499962.py:16: DeprecationWarning: Setting a feature value by direct assignment is deprecated. Use <nodemap>.ExposureTime.Value = 954.0246965279805\n",
      "  cam.ExposureTime = random.uniform(cam.ExposureTime.Min, 1000)\n",
      "C:\\Users\\Shawn\\AppData\\Local\\Temp\\ipykernel_7144\\3266499962.py:16: DeprecationWarning: Setting a feature value by direct assignment is deprecated. Use <nodemap>.ExposureTime.Value = 962.1707370201655\n",
      "  cam.ExposureTime = random.uniform(cam.ExposureTime.Min, 1000)\n",
      "C:\\Users\\Shawn\\AppData\\Local\\Temp\\ipykernel_7144\\3266499962.py:16: DeprecationWarning: Setting a feature value by direct assignment is deprecated. Use <nodemap>.ExposureTime.Value = 18.356358266836807\n",
      "  cam.ExposureTime = random.uniform(cam.ExposureTime.Min, 1000)\n",
      "C:\\Users\\Shawn\\AppData\\Local\\Temp\\ipykernel_7144\\3266499962.py:16: DeprecationWarning: Setting a feature value by direct assignment is deprecated. Use <nodemap>.ExposureTime.Value = 637.6878007394845\n",
      "  cam.ExposureTime = random.uniform(cam.ExposureTime.Min, 1000)\n",
      "C:\\Users\\Shawn\\AppData\\Local\\Temp\\ipykernel_7144\\3266499962.py:16: DeprecationWarning: Setting a feature value by direct assignment is deprecated. Use <nodemap>.ExposureTime.Value = 641.9637560844334\n",
      "  cam.ExposureTime = random.uniform(cam.ExposureTime.Min, 1000)\n",
      "C:\\Users\\Shawn\\AppData\\Local\\Temp\\ipykernel_7144\\3266499962.py:16: DeprecationWarning: Setting a feature value by direct assignment is deprecated. Use <nodemap>.ExposureTime.Value = 607.1566889248364\n",
      "  cam.ExposureTime = random.uniform(cam.ExposureTime.Min, 1000)\n",
      "C:\\Users\\Shawn\\AppData\\Local\\Temp\\ipykernel_7144\\3266499962.py:16: DeprecationWarning: Setting a feature value by direct assignment is deprecated. Use <nodemap>.ExposureTime.Value = 585.6987627435287\n",
      "  cam.ExposureTime = random.uniform(cam.ExposureTime.Min, 1000)\n",
      "C:\\Users\\Shawn\\AppData\\Local\\Temp\\ipykernel_7144\\3266499962.py:16: DeprecationWarning: Setting a feature value by direct assignment is deprecated. Use <nodemap>.ExposureTime.Value = 685.3754024686341\n",
      "  cam.ExposureTime = random.uniform(cam.ExposureTime.Min, 1000)\n",
      "C:\\Users\\Shawn\\AppData\\Local\\Temp\\ipykernel_7144\\3266499962.py:16: DeprecationWarning: Setting a feature value by direct assignment is deprecated. Use <nodemap>.ExposureTime.Value = 748.6377353258467\n",
      "  cam.ExposureTime = random.uniform(cam.ExposureTime.Min, 1000)\n",
      "C:\\Users\\Shawn\\AppData\\Local\\Temp\\ipykernel_7144\\3266499962.py:16: DeprecationWarning: Setting a feature value by direct assignment is deprecated. Use <nodemap>.ExposureTime.Value = 72.73198193381675\n",
      "  cam.ExposureTime = random.uniform(cam.ExposureTime.Min, 1000)\n",
      "C:\\Users\\Shawn\\AppData\\Local\\Temp\\ipykernel_7144\\3266499962.py:16: DeprecationWarning: Setting a feature value by direct assignment is deprecated. Use <nodemap>.ExposureTime.Value = 722.6985577572005\n",
      "  cam.ExposureTime = random.uniform(cam.ExposureTime.Min, 1000)\n",
      "C:\\Users\\Shawn\\AppData\\Local\\Temp\\ipykernel_7144\\3266499962.py:16: DeprecationWarning: Setting a feature value by direct assignment is deprecated. Use <nodemap>.ExposureTime.Value = 19.76691594959068\n",
      "  cam.ExposureTime = random.uniform(cam.ExposureTime.Min, 1000)\n",
      "C:\\Users\\Shawn\\AppData\\Local\\Temp\\ipykernel_7144\\3266499962.py:16: DeprecationWarning: Setting a feature value by direct assignment is deprecated. Use <nodemap>.ExposureTime.Value = 782.7753276458109\n",
      "  cam.ExposureTime = random.uniform(cam.ExposureTime.Min, 1000)\n"
     ]
    },
    {
     "name": "stdout",
     "output_type": "stream",
     "text": [
      "1.83 s ± 783 µs per loop (mean ± std. dev. of 7 runs, 1 loop each)\n"
     ]
    },
    {
     "data": {
      "text/plain": [
       "<TimeitResult : 1.83 s ± 783 µs per loop (mean ± std. dev. of 7 runs, 1 loop each)>"
      ]
     },
     "execution_count": 16,
     "metadata": {},
     "output_type": "execute_result"
    }
   ],
   "source": [
    "%%timeit -o\n",
    "BackGroundLoopSample()"
   ]
  },
  {
   "cell_type": "code",
   "execution_count": 17,
   "metadata": {},
   "outputs": [],
   "source": [
    "background_average = _.average / 100"
   ]
  },
  {
   "cell_type": "code",
   "execution_count": 18,
   "metadata": {},
   "outputs": [
    {
     "data": {
      "text/plain": [
       "'average time to capture one frame is: 18341.14 µs'"
      ]
     },
     "execution_count": 18,
     "metadata": {},
     "output_type": "execute_result"
    }
   ],
   "source": [
    "f\"average time to capture one frame is: {background_average*1e6:.2f} µs\""
   ]
  },
  {
   "cell_type": "code",
   "execution_count": 19,
   "metadata": {},
   "outputs": [],
   "source": [
    "cam.StopGrabbing()"
   ]
  },
  {
   "cell_type": "code",
   "execution_count": 20,
   "metadata": {},
   "outputs": [],
   "source": [
    "cam.Close()"
   ]
  },
  {
   "cell_type": "code",
   "execution_count": null,
   "metadata": {},
   "outputs": [],
   "source": []
  }
 ],
 "metadata": {
  "kernelspec": {
   "display_name": "Python 3",
   "language": "python",
   "name": "python3"
  },
  "language_info": {
   "codemirror_mode": {
    "name": "ipython",
    "version": 3
   },
   "file_extension": ".py",
   "mimetype": "text/x-python",
   "name": "python",
   "nbconvert_exporter": "python",
   "pygments_lexer": "ipython3",
   "version": "3.10.14"
  }
 },
 "nbformat": 4,
 "nbformat_minor": 4
}
