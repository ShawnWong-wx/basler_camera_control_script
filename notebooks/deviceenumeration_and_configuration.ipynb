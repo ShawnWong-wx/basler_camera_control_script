{
 "cells": [
  {
   "cell_type": "markdown",
   "id": "catholic-seventh",
   "metadata": {},
   "source": [
    "# Device Enumeration and Device Configuration"
   ]
  },
  {
   "cell_type": "code",
   "execution_count": 1,
   "id": "romance-dynamics",
   "metadata": {},
   "outputs": [],
   "source": [
    "# these four imports will provide most of the functionality required in\n",
    "# to start working with basler cameras\n",
    "# pypylon\n",
    "import pypylon.pylon as py\n",
    "\n",
    "# plotting for graphs and display of image\n",
    "import matplotlib.pyplot as plt\n",
    "\n",
    "# linear algebra and basic math on image matrices\n",
    "import numpy as np\n",
    "\n",
    "# OpenCV for image processing functions\n",
    "import cv2\n",
    "\n",
    "import inspect"
   ]
  },
  {
   "cell_type": "code",
   "execution_count": 2,
   "id": "early-seven",
   "metadata": {},
   "outputs": [],
   "source": [
    "# get instance of the pylon TransportLayerFactory\n",
    "tlf = py.TlFactory.GetInstance()"
   ]
  },
  {
   "cell_type": "code",
   "execution_count": 3,
   "id": "played-specification",
   "metadata": {},
   "outputs": [
    {
     "data": {
      "text/plain": [
       "<pypylon.pylon.TlFactory; proxy of <Swig Object of type 'Pylon::CTlFactory *' at 0x000001E1F29E82A0> >"
      ]
     },
     "execution_count": 3,
     "metadata": {},
     "output_type": "execute_result"
    }
   ],
   "source": [
    "# all pypylon objects are instances of SWIG wrappers around the underlying pylon c++ types\n",
    "tlf"
   ]
  },
  {
   "cell_type": "code",
   "execution_count": 4,
   "id": "honest-banana",
   "metadata": {},
   "outputs": [],
   "source": [
    "devices = tlf.EnumerateDevices()"
   ]
  },
  {
   "cell_type": "code",
   "execution_count": 5,
   "id": "accepting-minute",
   "metadata": {},
   "outputs": [
    {
     "data": {
      "text/plain": [
       "1"
      ]
     },
     "execution_count": 5,
     "metadata": {},
     "output_type": "execute_result"
    }
   ],
   "source": [
    "# list of pylon Device\n",
    "len(devices)"
   ]
  },
  {
   "cell_type": "code",
   "execution_count": 6,
   "id": "18265b9b",
   "metadata": {},
   "outputs": [
    {
     "data": {
      "text/plain": [
       "<pypylon.pylon.DeviceInfo; proxy of <Swig Object of type 'Pylon::CDeviceInfo *' at 0x000001E1EE43DB60> >"
      ]
     },
     "execution_count": 6,
     "metadata": {},
     "output_type": "execute_result"
    }
   ],
   "source": [
    "devices[0]"
   ]
  },
  {
   "cell_type": "code",
   "execution_count": 7,
   "id": "excited-theater",
   "metadata": {},
   "outputs": [
    {
     "name": "stdout",
     "output_type": "stream",
     "text": [
      "acA3088-57um 24261792\n"
     ]
    }
   ],
   "source": [
    "for device in devices:\n",
    "    print(device.GetModelName(), device.GetSerialNumber())"
   ]
  },
  {
   "cell_type": "code",
   "execution_count": 8,
   "id": "frank-observation",
   "metadata": {},
   "outputs": [],
   "source": [
    "# the active camera will be an InstantCamera based on a device\n",
    "# created with the corresponding DeviceInfo\n",
    "# this can be from a list of previously enumerated\n",
    "cam = py.InstantCamera(tlf.CreateDevice(devices[0]))"
   ]
  },
  {
   "cell_type": "code",
   "execution_count": 9,
   "id": "56536b3b",
   "metadata": {},
   "outputs": [
    {
     "data": {
      "text/plain": [
       "<pypylon.pylon.InstantCamera; proxy of <Swig Object of type 'Pylon::CInstantCamera *' at 0x000001E1EFD43210> >"
      ]
     },
     "execution_count": 9,
     "metadata": {},
     "output_type": "execute_result"
    }
   ],
   "source": [
    "cam"
   ]
  },
  {
   "cell_type": "code",
   "execution_count": 10,
   "id": "understanding-joining",
   "metadata": {},
   "outputs": [],
   "source": [
    "# or with the helper method to get the FirstDevice from an enumeration\n",
    "cam = py.InstantCamera(tlf.CreateFirstDevice())"
   ]
  },
  {
   "cell_type": "code",
   "execution_count": 11,
   "id": "killing-bulletin",
   "metadata": {},
   "outputs": [],
   "source": [
    "# the features of the device are only accessable after Opening the device\n",
    "cam.Open()"
   ]
  },
  {
   "cell_type": "code",
   "execution_count": 12,
   "id": "edf2e860",
   "metadata": {},
   "outputs": [
    {
     "data": {
      "text/plain": [
       "'Off'"
      ]
     },
     "execution_count": 12,
     "metadata": {},
     "output_type": "execute_result"
    }
   ],
   "source": [
    "cam.GainAuto.Value"
   ]
  },
  {
   "cell_type": "code",
   "execution_count": 13,
   "id": "1b3a946b",
   "metadata": {},
   "outputs": [],
   "source": [
    "cam.Gain.Value = 0"
   ]
  },
  {
   "cell_type": "code",
   "execution_count": 14,
   "id": "09752de1",
   "metadata": {},
   "outputs": [
    {
     "data": {
      "text/plain": [
       "0.0"
      ]
     },
     "execution_count": 14,
     "metadata": {},
     "output_type": "execute_result"
    }
   ],
   "source": [
    "cam.Gain.Value"
   ]
  },
  {
   "cell_type": "code",
   "execution_count": 18,
   "id": "1952c00f",
   "metadata": {},
   "outputs": [
    {
     "data": {
      "text/plain": [
       "8.0"
      ]
     },
     "execution_count": 18,
     "metadata": {},
     "output_type": "execute_result"
    }
   ],
   "source": [
    "cam.ExposureTime.Value"
   ]
  },
  {
   "cell_type": "code",
   "execution_count": 40,
   "id": "c8a31472",
   "metadata": {},
   "outputs": [],
   "source": [
    "cam.Close()"
   ]
  },
  {
   "cell_type": "code",
   "execution_count": 43,
   "id": "034f2abf",
   "metadata": {},
   "outputs": [],
   "source": [
    "cam.DeviceReset()"
   ]
  },
  {
   "cell_type": "code",
   "execution_count": 20,
   "id": "015a9ba7",
   "metadata": {},
   "outputs": [
    {
     "data": {
      "text/plain": [
       "'d:\\\\OneDrive - University of Arizona\\\\research\\\\github_repositories\\\\basler_camera_control_script\\\\notebooks'"
      ]
     },
     "execution_count": 20,
     "metadata": {},
     "output_type": "execute_result"
    }
   ],
   "source": [
    "%pwd"
   ]
  },
  {
   "cell_type": "markdown",
   "id": "stylish-terry",
   "metadata": {},
   "source": [
    "# Features and their available attributes and functions\n",
    "\n",
    "pylon / genicam features are of the types:\n",
    "\n",
    "* Float\n",
    "* Integer\n",
    "* Bool\n",
    "* Command\n",
    "* String\n",
    "\n",
    "If there are multiple instances of a features e.g. TriggerSource for each possible Trigger on a device e.g. FrameStart/LineStart/FrameBurst ....:\n",
    "* Selectors are used to first select the instance e.g. FrameStart and then write to the feature\n"
   ]
  },
  {
   "cell_type": "code",
   "execution_count": 11,
   "id": "individual-redhead",
   "metadata": {},
   "outputs": [
    {
     "data": {
      "text/plain": [
       "<pypylon.genicam.IFloat; proxy of <Swig Object of type 'GENAPI_NAMESPACE::IFloat *' at 0x00000185A9B00FC0> >"
      ]
     },
     "execution_count": 11,
     "metadata": {},
     "output_type": "execute_result"
    }
   ],
   "source": [
    "# Float\n",
    "# the node\n",
    "cam.Gain"
   ]
  },
  {
   "cell_type": "code",
   "execution_count": 12,
   "id": "olympic-absolute",
   "metadata": {},
   "outputs": [
    {
     "data": {
      "text/plain": [
       "0.0"
      ]
     },
     "execution_count": 12,
     "metadata": {},
     "output_type": "execute_result"
    }
   ],
   "source": [
    "# Float\n",
    "# the value\n",
    "cam.Gain.GetValue()"
   ]
  },
  {
   "cell_type": "code",
   "execution_count": 13,
   "id": "effective-bangladesh",
   "metadata": {},
   "outputs": [
    {
     "data": {
      "text/plain": [
       "0.0"
      ]
     },
     "execution_count": 13,
     "metadata": {},
     "output_type": "execute_result"
    }
   ],
   "source": [
    "# abbrev get value\n",
    "cam.Gain.Value"
   ]
  },
  {
   "cell_type": "code",
   "execution_count": 16,
   "id": "dramatic-domestic",
   "metadata": {},
   "outputs": [],
   "source": [
    "# set the value\n",
    "cam.Gain.SetValue(0)"
   ]
  },
  {
   "cell_type": "code",
   "execution_count": 15,
   "id": "french-bacon",
   "metadata": {},
   "outputs": [],
   "source": [
    "# abbrev set value\n",
    "cam.Gain = 12.1"
   ]
  },
  {
   "cell_type": "code",
   "execution_count": 17,
   "id": "driving-break",
   "metadata": {},
   "outputs": [
    {
     "data": {
      "text/plain": [
       "0.0"
      ]
     },
     "execution_count": 17,
     "metadata": {},
     "output_type": "execute_result"
    }
   ],
   "source": [
    "# the value has been updated\n",
    "cam.Gain.Value"
   ]
  },
  {
   "cell_type": "code",
   "execution_count": 14,
   "id": "naked-variable",
   "metadata": {},
   "outputs": [
    {
     "name": "stderr",
     "output_type": "stream",
     "text": [
      "C:\\Users\\Shawn\\AppData\\Local\\Temp\\ipykernel_10596\\493777350.py:1: DeprecationWarning: Setting a feature value by direct assignment is deprecated. Use <nodemap>.Gain.Value = 20\n",
      "  cam.Gain = 20\n"
     ]
    }
   ],
   "source": [
    "cam.Gain = 20"
   ]
  },
  {
   "cell_type": "code",
   "execution_count": 18,
   "id": "changing-priest",
   "metadata": {},
   "outputs": [
    {
     "data": {
      "text/plain": [
       "('FrameBurstStart', 'FrameStart')"
      ]
     },
     "execution_count": 18,
     "metadata": {},
     "output_type": "execute_result"
    }
   ],
   "source": [
    "# Enumeration ... all values:\n",
    "cam.TriggerSelector.Symbolics"
   ]
  },
  {
   "cell_type": "code",
   "execution_count": 19,
   "id": "celtic-enlargement",
   "metadata": {},
   "outputs": [
    {
     "name": "stderr",
     "output_type": "stream",
     "text": [
      "C:\\Users\\Shawn\\AppData\\Local\\Temp\\ipykernel_10596\\2923512820.py:2: DeprecationWarning: Setting a feature value by direct assignment is deprecated. Use <nodemap>.TriggerSelector.Value = FrameStart\n",
      "  cam.TriggerSelector = \"FrameStart\"\n"
     ]
    }
   ],
   "source": [
    "# set the value\n",
    "cam.TriggerSelector = \"FrameStart\""
   ]
  },
  {
   "cell_type": "code",
   "execution_count": 20,
   "id": "recent-violence",
   "metadata": {},
   "outputs": [
    {
     "name": "stderr",
     "output_type": "stream",
     "text": [
      "C:\\Users\\Shawn\\AppData\\Local\\Temp\\ipykernel_10596\\1571711424.py:3: DeprecationWarning: Setting a feature value by direct assignment is deprecated. Use <nodemap>.TriggerSelector.Value = FrameStart\n",
      "  cam.TriggerSelector = \"FrameStart\"\n",
      "C:\\Users\\Shawn\\AppData\\Local\\Temp\\ipykernel_10596\\1571711424.py:4: DeprecationWarning: Setting a feature value by direct assignment is deprecated. Use <nodemap>.TriggerSource.Value = Line1\n",
      "  cam.TriggerSource = \"Line1\"\n"
     ]
    }
   ],
   "source": [
    "# selector handling:\n",
    "# first set selector than the dependent value:\n",
    "cam.TriggerSelector = \"FrameStart\"\n",
    "cam.TriggerSource = \"Line1\""
   ]
  },
  {
   "cell_type": "code",
   "execution_count": 21,
   "id": "marked-roads",
   "metadata": {},
   "outputs": [
    {
     "name": "stderr",
     "output_type": "stream",
     "text": [
      "C:\\Users\\Shawn\\AppData\\Local\\Temp\\ipykernel_10596\\3936330742.py:2: DeprecationWarning: Setting a feature value by direct assignment is deprecated. Use <nodemap>.UserSetSelector.Value = Default\n",
      "  cam.UserSetSelector = cam.UserSetDefault.Value\n"
     ]
    }
   ],
   "source": [
    "# reset to power on defaults\n",
    "cam.UserSetSelector = cam.UserSetDefault.Value\n",
    "cam.UserSetLoad.Execute()"
   ]
  },
  {
   "cell_type": "code",
   "execution_count": 22,
   "id": "adult-coffee",
   "metadata": {},
   "outputs": [
    {
     "data": {
      "text/plain": [
       "('Mono8', 'Mono12', 'Mono12p')"
      ]
     },
     "execution_count": 22,
     "metadata": {},
     "output_type": "execute_result"
    }
   ],
   "source": [
    "cam.PixelFormat.Symbolics"
   ]
  },
  {
   "cell_type": "code",
   "execution_count": 23,
   "id": "common-rings",
   "metadata": {},
   "outputs": [
    {
     "name": "stderr",
     "output_type": "stream",
     "text": [
      "C:\\Users\\Shawn\\AppData\\Local\\Temp\\ipykernel_10596\\3181819079.py:1: DeprecationWarning: Setting a feature value by direct assignment is deprecated. Use <nodemap>.PixelFormat.Value = Mono8\n",
      "  cam.PixelFormat = \"Mono8\"\n"
     ]
    }
   ],
   "source": [
    "cam.PixelFormat = \"Mono8\"\n",
    "# like above, alternative is the long form\n",
    "cam.PixelFormat.SetValue(\"Mono8\")"
   ]
  },
  {
   "cell_type": "code",
   "execution_count": 24,
   "id": "floating-indianapolis",
   "metadata": {},
   "outputs": [],
   "source": [
    "# grab one image with a timeout of 1s\n",
    "# returns a GrabResult, which is the image plus metadata\n",
    "res = cam.GrabOne(1000)"
   ]
  },
  {
   "cell_type": "code",
   "execution_count": 25,
   "id": "mounted-academy",
   "metadata": {},
   "outputs": [
    {
     "data": {
      "text/plain": [
       "bytearray(b'\\x19\\x1c\\x1c\\x1c\\x1b\\x1b\\x19\\x1b\\x1b\\x1a\\x1b\\x1b\\x1d\\x19\\x1c\\x1b\\x1b\\x1c\\x1b\\x1b\\x1c\\x1b\\x1c\\x1c\\x1b\\x1c\\x1c\\x1d\\x1c\\x1b\\x1d\\x1d\\x1b\\x1d\\x1b\\x1b\\x1c\\x1c\\x1c\\x1c\\x1e\\x1e\\x1d\\x1d\\x1b\\x1c\\x1d\\x1d\\x1e\\x1e\\x1d\\x1d\\x1e\\x1d\\x1c\\x1c\\x1c\\x1d\\x1e\\x1d\\x1d\\x1c\\x1d\\x1d\\x1d\\x1d\\x1e\\x1d\\x1e\\x1e\\x1e\\x1f\\x1d\\x1e\\x1e\\x1f\\x1e\\x1d\\x1d\\x1d\\x1e\\x1e\\x1e\\x1f\\x1d\\x1e\\x1d\\x1d\\x1e\\x1e\\x1e\\x1e\\x1e\\x1f\\x1e\\x1f\\x1f\\x1d\\x1e\\x1e')"
      ]
     },
     "execution_count": 25,
     "metadata": {},
     "output_type": "execute_result"
    }
   ],
   "source": [
    "# the raw memory of the image\n",
    "res.GetBuffer()[:100]"
   ]
  },
  {
   "cell_type": "markdown",
   "id": "packed-competition",
   "metadata": {},
   "source": [
    "# automatic conversion to ndarray with the Array call"
   ]
  },
  {
   "cell_type": "code",
   "execution_count": 26,
   "id": "satellite-current",
   "metadata": {},
   "outputs": [],
   "source": [
    "# full method call\n",
    "img = res.GetArray()\n",
    "# abbrev\n",
    "img = res.Array"
   ]
  },
  {
   "cell_type": "code",
   "execution_count": 27,
   "id": "apparent-execution",
   "metadata": {},
   "outputs": [
    {
     "data": {
      "text/plain": [
       "(2064, 3088)"
      ]
     },
     "execution_count": 27,
     "metadata": {},
     "output_type": "execute_result"
    }
   ],
   "source": [
    "img.shape"
   ]
  },
  {
   "cell_type": "code",
   "execution_count": 28,
   "id": "joint-performer",
   "metadata": {},
   "outputs": [
    {
     "data": {
      "text/plain": [
       "<matplotlib.image.AxesImage at 0x185a9b03a60>"
      ]
     },
     "execution_count": 28,
     "metadata": {},
     "output_type": "execute_result"
    },
    {
     "data": {
      "image/png": "[encoded data removed]",
      "text/plain": [
       "<Figure size 640x480 with 1 Axes>"
      ]
     },
     "metadata": {},
     "output_type": "display_data"
    }
   ],
   "source": [
    "plt.imshow(img)\n",
    "plt.show()"
   ]
  },
  {
   "cell_type": "code",
   "execution_count": 29,
   "id": "miniature-wages",
   "metadata": {},
   "outputs": [
    {
     "data": {
      "text/plain": [
       "[<matplotlib.lines.Line2D at 0x185adb44c40>]"
      ]
     },
     "execution_count": 29,
     "metadata": {},
     "output_type": "execute_result"
    },
    {
     "data": {
      "image/png": "[encoded data removed]",
      "text/plain": [
       "<Figure size 640x480 with 1 Axes>"
      ]
     },
     "metadata": {},
     "output_type": "display_data"
    }
   ],
   "source": [
    "plt.plot(img[1000, :])"
   ]
  },
  {
   "cell_type": "code",
   "execution_count": 32,
   "id": "demonstrated-chase",
   "metadata": {},
   "outputs": [],
   "source": [
    "cam.Close()"
   ]
  },
  {
   "cell_type": "code",
   "execution_count": null,
   "id": "historic-member",
   "metadata": {},
   "outputs": [],
   "source": []
  }
 ],
 "metadata": {
  "kernelspec": {
   "display_name": "Python 3",
   "language": "python",
   "name": "python3"
  },
  "language_info": {
   "codemirror_mode": {
    "name": "ipython",
    "version": 3
   },
   "file_extension": ".py",
   "mimetype": "text/x-python",
   "name": "python",
   "nbconvert_exporter": "python",
   "pygments_lexer": "ipython3",
   "version": "3.10.14"
  }
 },
 "nbformat": 4,
 "nbformat_minor": 5
}
